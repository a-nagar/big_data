{
  "nbformat": 4,
  "nbformat_minor": 0,
  "metadata": {
    "colab": {
      "provenance": [],
      "include_colab_link": true
    },
    "kernelspec": {
      "name": "python3",
      "display_name": "Python 3"
    },
    "language_info": {
      "name": "python"
    }
  },
  "cells": [
    {
      "cell_type": "markdown",
      "metadata": {
        "id": "view-in-github",
        "colab_type": "text"
      },
      "source": [
        "<a href=\"https://colab.research.google.com/github/a-nagar/big_data/blob/main/Getting_Started_with_PySpark.ipynb\" target=\"_parent\"><img src=\"https://colab.research.google.com/assets/colab-badge.svg\" alt=\"Open In Colab\"/></a>"
      ]
    },
    {
      "cell_type": "markdown",
      "metadata": {
        "id": "32fjpkeS-nYP"
      },
      "source": [
        "# Installing Spark and PySpark\n",
        "\n",
        "Run the following block of code to install Spark and PySpark. It should take about a minute to run the first block.\n",
        "\n",
        "See more here! http://spark.apache.org/docs/latest/api/python/"
      ]
    },
    {
      "cell_type": "markdown",
      "metadata": {
        "id": "m9yXqV3LigUA"
      },
      "source": [
        "# 1. Installing PySpark in Google Colab"
      ]
    },
    {
      "cell_type": "code",
      "metadata": {
        "colab": {
          "base_uri": "https://localhost:8080/",
          "height": 746
        },
        "id": "hxv7w_2y2bb9",
        "outputId": "e1cdb5b3-cfc0-4da6-c01d-fba12c2b3cba"
      },
      "source": [
        "!sudo apt update\n",
        "!apt-get install openjdk-8-jdk-headless -qq > /dev/null\n",
        "#Check this site for the latest download link https://www.apache.org/dyn/closer.lua/spark/spark-3.2.1/spark-3.2.1-bin-hadoop3.2.tgz\n",
        "!wget -q https://dlcdn.apache.org/spark/spark-3.2.1/spark-3.2.1-bin-hadoop3.2.tgz\n",
        "!tar xf spark-3.2.1-bin-hadoop3.2.tgz\n",
        "!pip install -q findspark\n",
        "!pip install pyspark\n",
        "!pip install py4j\n",
        "\n",
        "import os\n",
        "import sys\n",
        "# os.environ[\"JAVA_HOME\"] = \"/usr/lib/jvm/java-8-openjdk-amd64\"\n",
        "# os.environ[\"SPARK_HOME\"] = \"/content/spark-3.2.1-bin-hadoop3.2\"\n",
        "\n",
        "\n",
        "import findspark\n",
        "findspark.init()\n",
        "findspark.find()\n",
        "\n",
        "import pyspark\n",
        "\n",
        "from pyspark.sql import DataFrame, SparkSession\n",
        "from typing import List\n",
        "import pyspark.sql.types as T\n",
        "import pyspark.sql.functions as F\n",
        "\n",
        "spark= SparkSession \\\n",
        "       .builder \\\n",
        "       .appName(\"Our First Spark Example\") \\\n",
        "       .getOrCreate()\n",
        "\n",
        "spark"
      ],
      "execution_count": 1,
      "outputs": [
        {
          "output_type": "stream",
          "name": "stdout",
          "text": [
            "\u001b[33m\r0% [Working]\u001b[0m\r            \rHit:1 https://cli.github.com/packages stable InRelease\n",
            "\u001b[33m\r0% [Connecting to archive.ubuntu.com (185.125.190.82)] [Connecting to security.\u001b[0m\r                                                                               \rGet:2 https://cloud.r-project.org/bin/linux/ubuntu jammy-cran40/ InRelease [3,632 B]\n",
            "Get:3 https://developer.download.nvidia.com/compute/cuda/repos/ubuntu2204/x86_64  InRelease [1,581 B]\n",
            "Get:4 http://security.ubuntu.com/ubuntu jammy-security InRelease [129 kB]\n",
            "Hit:5 http://archive.ubuntu.com/ubuntu jammy InRelease\n",
            "Get:6 https://r2u.stat.illinois.edu/ubuntu jammy InRelease [6,555 B]\n",
            "Get:7 http://archive.ubuntu.com/ubuntu jammy-updates InRelease [128 kB]\n",
            "Get:8 https://developer.download.nvidia.com/compute/cuda/repos/ubuntu2204/x86_64  Packages [2,014 kB]\n",
            "Hit:9 https://ppa.launchpadcontent.net/deadsnakes/ppa/ubuntu jammy InRelease\n",
            "Hit:10 https://ppa.launchpadcontent.net/graphics-drivers/ppa/ubuntu jammy InRelease\n",
            "Get:11 http://archive.ubuntu.com/ubuntu jammy-backports InRelease [127 kB]\n",
            "Hit:12 https://ppa.launchpadcontent.net/ubuntugis/ppa/ubuntu jammy InRelease\n",
            "Get:13 https://r2u.stat.illinois.edu/ubuntu jammy/main amd64 Packages [2,805 kB]\n",
            "Get:14 http://security.ubuntu.com/ubuntu jammy-security/universe amd64 Packages [1,274 kB]\n",
            "Get:15 https://r2u.stat.illinois.edu/ubuntu jammy/main all Packages [9,305 kB]\n",
            "Get:16 http://security.ubuntu.com/ubuntu jammy-security/main amd64 Packages [3,371 kB]\n",
            "Get:17 http://archive.ubuntu.com/ubuntu jammy-updates/universe amd64 Packages [1,577 kB]\n",
            "Get:18 http://archive.ubuntu.com/ubuntu jammy-updates/main amd64 Packages [3,690 kB]\n",
            "Get:19 http://archive.ubuntu.com/ubuntu jammy-backports/universe amd64 Packages [35.2 kB]\n",
            "Fetched 24.5 MB in 6s (4,241 kB/s)\n",
            "Reading package lists... Done\n",
            "Building dependency tree... Done\n",
            "Reading state information... Done\n",
            "46 packages can be upgraded. Run 'apt list --upgradable' to see them.\n",
            "\u001b[1;33mW: \u001b[0mSkipping acquire of configured file 'main/source/Sources' as repository 'https://r2u.stat.illinois.edu/ubuntu jammy InRelease' does not seem to provide it (sources.list entry misspelt?)\u001b[0m\n",
            "tar: spark-3.2.1-bin-hadoop3.2.tgz: Cannot open: No such file or directory\n",
            "tar: Error is not recoverable: exiting now\n",
            "Requirement already satisfied: pyspark in /usr/local/lib/python3.12/dist-packages (3.5.1)\n",
            "Requirement already satisfied: py4j==0.10.9.7 in /usr/local/lib/python3.12/dist-packages (from pyspark) (0.10.9.7)\n",
            "Requirement already satisfied: py4j in /usr/local/lib/python3.12/dist-packages (0.10.9.7)\n"
          ]
        },
        {
          "output_type": "execute_result",
          "data": {
            "text/plain": [
              "<pyspark.sql.session.SparkSession at 0x7c51836ece00>"
            ],
            "text/html": [
              "\n",
              "            <div>\n",
              "                <p><b>SparkSession - in-memory</b></p>\n",
              "                \n",
              "        <div>\n",
              "            <p><b>SparkContext</b></p>\n",
              "\n",
              "            <p><a href=\"http://bc24bca3e310:4040\">Spark UI</a></p>\n",
              "\n",
              "            <dl>\n",
              "              <dt>Version</dt>\n",
              "                <dd><code>v3.5.1</code></dd>\n",
              "              <dt>Master</dt>\n",
              "                <dd><code>local[*]</code></dd>\n",
              "              <dt>AppName</dt>\n",
              "                <dd><code>Our First Spark Example</code></dd>\n",
              "            </dl>\n",
              "        </div>\n",
              "        \n",
              "            </div>\n",
              "        "
            ]
          },
          "metadata": {},
          "execution_count": 1
        }
      ]
    },
    {
      "cell_type": "code",
      "metadata": {
        "colab": {
          "base_uri": "https://localhost:8080/",
          "height": 216
        },
        "id": "hcOCBgQo2Pqf",
        "outputId": "c6003c2e-146b-471e-a937-84d418f08bf2"
      },
      "source": [
        "spark"
      ],
      "execution_count": 2,
      "outputs": [
        {
          "output_type": "execute_result",
          "data": {
            "text/plain": [
              "<pyspark.sql.session.SparkSession at 0x7c51836ece00>"
            ],
            "text/html": [
              "\n",
              "            <div>\n",
              "                <p><b>SparkSession - in-memory</b></p>\n",
              "                \n",
              "        <div>\n",
              "            <p><b>SparkContext</b></p>\n",
              "\n",
              "            <p><a href=\"http://bc24bca3e310:4040\">Spark UI</a></p>\n",
              "\n",
              "            <dl>\n",
              "              <dt>Version</dt>\n",
              "                <dd><code>v3.5.1</code></dd>\n",
              "              <dt>Master</dt>\n",
              "                <dd><code>local[*]</code></dd>\n",
              "              <dt>AppName</dt>\n",
              "                <dd><code>Our First Spark Example</code></dd>\n",
              "            </dl>\n",
              "        </div>\n",
              "        \n",
              "            </div>\n",
              "        "
            ]
          },
          "metadata": {},
          "execution_count": 2
        }
      ]
    },
    {
      "cell_type": "code",
      "source": [
        "sc = spark.sparkContext"
      ],
      "metadata": {
        "id": "t_ioenOCUt6D"
      },
      "execution_count": 5,
      "outputs": []
    },
    {
      "cell_type": "markdown",
      "metadata": {
        "id": "UHvKMqLQ4ezk"
      },
      "source": [
        "# 2. Reading Data\n",
        "\n",
        "For this example, I am going to use a publicly available data set in a CSV format."
      ]
    },
    {
      "cell_type": "code",
      "metadata": {
        "id": "xzvNxiQSixRU",
        "colab": {
          "base_uri": "https://localhost:8080/"
        },
        "outputId": "8dac4d45-4936-4765-9f4b-7a6a06eb5a6a"
      },
      "source": [
        "# Step 1: Download a book from an external source to file system\n",
        "!wget https://www.gutenberg.org/cache/epub/1513/pg1513.txt"
      ],
      "execution_count": 7,
      "outputs": [
        {
          "output_type": "stream",
          "name": "stdout",
          "text": [
            "--2025-09-30 01:55:18--  https://www.gutenberg.org/cache/epub/1513/pg1513.txt\n",
            "Resolving www.gutenberg.org (www.gutenberg.org)... 152.19.134.47, 2610:28:3090:3000:0:bad:cafe:47\n",
            "Connecting to www.gutenberg.org (www.gutenberg.org)|152.19.134.47|:443... connected.\n",
            "HTTP request sent, awaiting response... 200 OK\n",
            "Length: 169546 (166K) [text/plain]\n",
            "Saving to: ‘pg1513.txt’\n",
            "\n",
            "pg1513.txt          100%[===================>] 165.57K  1008KB/s    in 0.2s    \n",
            "\n",
            "2025-09-30 01:55:19 (1008 KB/s) - ‘pg1513.txt’ saved [169546/169546]\n",
            "\n"
          ]
        }
      ]
    },
    {
      "cell_type": "code",
      "source": [
        "book = sc.textFile(\"/content/pg1513.txt\")"
      ],
      "metadata": {
        "id": "R49iK3lRVQMS"
      },
      "execution_count": 8,
      "outputs": []
    },
    {
      "cell_type": "code",
      "source": [
        "book.take(10)"
      ],
      "metadata": {
        "colab": {
          "base_uri": "https://localhost:8080/"
        },
        "id": "CtfGU4JRVUKd",
        "outputId": "e410b5ed-8165-4550-bacf-610f10fe6a88"
      },
      "execution_count": 9,
      "outputs": [
        {
          "output_type": "execute_result",
          "data": {
            "text/plain": [
              "['The Project Gutenberg eBook of Romeo and Juliet',\n",
              " '    ',\n",
              " 'This ebook is for the use of anyone anywhere in the United States and',\n",
              " 'most other parts of the world at no cost and with almost no restrictions',\n",
              " 'whatsoever. You may copy it, give it away or re-use it under the terms',\n",
              " 'of the Project Gutenberg License included with this ebook or online',\n",
              " 'at www.gutenberg.org. If you are not located in the United States,',\n",
              " 'you will have to check the laws of the country where you are located',\n",
              " 'before using this eBook.',\n",
              " '']"
            ]
          },
          "metadata": {},
          "execution_count": 9
        }
      ]
    },
    {
      "cell_type": "code",
      "source": [
        "words = book.flatMap(lambda x: x.split(\" \")).map(lambda x: x.lower())\n",
        "longWords = words.filter(lambda x: len(x) > 5)\n",
        "wordPairs = longWords.map(lambda x: (x, 1))\n",
        "wordCounts = wordPairs.reduceByKey(lambda x,y: x + y).sortBy(lambda x: -x[1])"
      ],
      "metadata": {
        "id": "tKa-KlbKVasP"
      },
      "execution_count": 10,
      "outputs": []
    },
    {
      "cell_type": "code",
      "source": [
        "wordCounts.take(10)"
      ],
      "metadata": {
        "colab": {
          "base_uri": "https://localhost:8080/"
        },
        "id": "saKqg_xrVdc_",
        "outputId": "4f28a8ac-7fb4-4c15-e0bb-d2e0628cf49d"
      },
      "execution_count": 11,
      "outputs": [
        {
          "output_type": "execute_result",
          "data": {
            "text/plain": [
              "[('romeo.', 188),\n",
              " ('juliet.', 132),\n",
              " ('capulet.', 108),\n",
              " ('nurse.', 104),\n",
              " ('project', 84),\n",
              " ('mercutio.', 67),\n",
              " ('benvolio.', 65),\n",
              " ('lawrence.', 58),\n",
              " ('gutenberg™', 54),\n",
              " ('should', 50)]"
            ]
          },
          "metadata": {},
          "execution_count": 11
        }
      ]
    },
    {
      "cell_type": "code",
      "source": [
        "import re"
      ],
      "metadata": {
        "id": "8wcpZC3bV3Ww"
      },
      "execution_count": 12,
      "outputs": []
    },
    {
      "cell_type": "code",
      "source": [
        "words = book.flatMap(lambda x: re.split(r'[^a-zA-Z]+', x)).map(lambda x: x.lower())\n",
        "longWords = words.filter(lambda x: len(x) > 5)\n",
        "wordPairs = longWords.map(lambda x: (x, 1))\n",
        "wordCounts = wordPairs.reduceByKey(lambda x,y: x + y).sortBy(lambda x: -x[1])"
      ],
      "metadata": {
        "id": "Yk1aoq9xV6oT"
      },
      "execution_count": 16,
      "outputs": []
    },
    {
      "cell_type": "code",
      "source": [
        "wordCounts.take(10)"
      ],
      "metadata": {
        "colab": {
          "base_uri": "https://localhost:8080/"
        },
        "id": "9mAzupxwWAwx",
        "outputId": "09258a37-1088-466a-9671-9eee1a0f5e82"
      },
      "execution_count": 17,
      "outputs": [
        {
          "output_type": "execute_result",
          "data": {
            "text/plain": [
              "[('juliet', 194),\n",
              " ('capulet', 163),\n",
              " ('gutenberg', 98),\n",
              " ('project', 89),\n",
              " ('mercutio', 88),\n",
              " ('lawrence', 82),\n",
              " ('tybalt', 80),\n",
              " ('benvolio', 79),\n",
              " ('should', 51),\n",
              " ('montague', 47)]"
            ]
          },
          "metadata": {},
          "execution_count": 17
        }
      ]
    },
    {
      "cell_type": "markdown",
      "metadata": {
        "id": "nYRUC46L_8zX"
      },
      "source": [
        "#3. PySpark DataFrames"
      ]
    },
    {
      "cell_type": "code",
      "source": [
        "!wget https://raw.githubusercontent.com/a-nagar/datasets/refs/heads/main/movielens/movies.csv\n",
        "!wget https://raw.githubusercontent.com/a-nagar/datasets/refs/heads/main/movielens/ratings.csv\n",
        "!wget https://raw.githubusercontent.com/a-nagar/datasets/refs/heads/main/movielens/tags.csv\n",
        ""
      ],
      "metadata": {
        "colab": {
          "base_uri": "https://localhost:8080/"
        },
        "id": "YS22a6Y6WqNs",
        "outputId": "95810a38-403e-4649-e946-052e6d0ee565"
      },
      "execution_count": 19,
      "outputs": [
        {
          "output_type": "stream",
          "name": "stdout",
          "text": [
            "--2025-09-30 02:02:14--  https://raw.githubusercontent.com/a-nagar/datasets/refs/heads/main/movielens/movies.csv\n",
            "Resolving raw.githubusercontent.com (raw.githubusercontent.com)... 185.199.111.133, 185.199.109.133, 185.199.108.133, ...\n",
            "Connecting to raw.githubusercontent.com (raw.githubusercontent.com)|185.199.111.133|:443... connected.\n",
            "HTTP request sent, awaiting response... 200 OK\n",
            "Length: 494431 (483K) [text/plain]\n",
            "Saving to: ‘movies.csv’\n",
            "\n",
            "movies.csv          100%[===================>] 482.84K  --.-KB/s    in 0.03s   \n",
            "\n",
            "2025-09-30 02:02:14 (17.5 MB/s) - ‘movies.csv’ saved [494431/494431]\n",
            "\n",
            "--2025-09-30 02:02:14--  https://raw.githubusercontent.com/a-nagar/datasets/refs/heads/main/movielens/ratings.csv\n",
            "Resolving raw.githubusercontent.com (raw.githubusercontent.com)... 185.199.108.133, 185.199.109.133, 185.199.110.133, ...\n",
            "Connecting to raw.githubusercontent.com (raw.githubusercontent.com)|185.199.108.133|:443... connected.\n",
            "HTTP request sent, awaiting response... 200 OK\n",
            "Length: 2483723 (2.4M) [text/plain]\n",
            "Saving to: ‘ratings.csv’\n",
            "\n",
            "ratings.csv         100%[===================>]   2.37M  --.-KB/s    in 0.04s   \n",
            "\n",
            "2025-09-30 02:02:15 (56.1 MB/s) - ‘ratings.csv’ saved [2483723/2483723]\n",
            "\n",
            "--2025-09-30 02:02:15--  https://raw.githubusercontent.com/a-nagar/datasets/refs/heads/main/movielens/tags.csv\n",
            "Resolving raw.githubusercontent.com (raw.githubusercontent.com)... 185.199.108.133, 185.199.109.133, 185.199.110.133, ...\n",
            "Connecting to raw.githubusercontent.com (raw.githubusercontent.com)|185.199.108.133|:443... connected.\n",
            "HTTP request sent, awaiting response... 200 OK\n",
            "Length: 118660 (116K) [text/plain]\n",
            "Saving to: ‘tags.csv’\n",
            "\n",
            "tags.csv            100%[===================>] 115.88K  --.-KB/s    in 0.009s  \n",
            "\n",
            "2025-09-30 02:02:15 (12.6 MB/s) - ‘tags.csv’ saved [118660/118660]\n",
            "\n"
          ]
        }
      ]
    },
    {
      "cell_type": "code",
      "source": [
        "moviesDF = spark.read.option(\"header\",\"true\").option(\"inferSchema\",\"true\").csv(\"/content/movies.csv\")\n",
        "ratingsDF = spark.read.option(\"header\",\"true\").option(\"inferSchema\",\"true\").csv(\"/content/ratings.csv\")\n",
        "tagsDF = spark.read.option(\"header\",\"true\").option(\"inferSchema\",\"true\").csv(\"/content/tags.csv\")"
      ],
      "metadata": {
        "id": "bYFl1AeAW3ho"
      },
      "execution_count": 22,
      "outputs": []
    },
    {
      "cell_type": "code",
      "source": [
        "moviesDF.show(10)"
      ],
      "metadata": {
        "colab": {
          "base_uri": "https://localhost:8080/"
        },
        "id": "MY1Xm7xLXH4S",
        "outputId": "6d051fd4-27e3-4c86-921b-a6e07df9ee0e"
      },
      "execution_count": 23,
      "outputs": [
        {
          "output_type": "stream",
          "name": "stdout",
          "text": [
            "+-------+--------------------+--------------------+\n",
            "|movieId|               title|              genres|\n",
            "+-------+--------------------+--------------------+\n",
            "|      1|    Toy Story (1995)|Adventure|Animati...|\n",
            "|      2|      Jumanji (1995)|Adventure|Childre...|\n",
            "|      3|Grumpier Old Men ...|      Comedy|Romance|\n",
            "|      4|Waiting to Exhale...|Comedy|Drama|Romance|\n",
            "|      5|Father of the Bri...|              Comedy|\n",
            "|      6|         Heat (1995)|Action|Crime|Thri...|\n",
            "|      7|      Sabrina (1995)|      Comedy|Romance|\n",
            "|      8| Tom and Huck (1995)|  Adventure|Children|\n",
            "|      9| Sudden Death (1995)|              Action|\n",
            "|     10|    GoldenEye (1995)|Action|Adventure|...|\n",
            "+-------+--------------------+--------------------+\n",
            "only showing top 10 rows\n",
            "\n"
          ]
        }
      ]
    },
    {
      "cell_type": "code",
      "source": [
        "ratingsDF.show(10)"
      ],
      "metadata": {
        "colab": {
          "base_uri": "https://localhost:8080/"
        },
        "id": "nVD0Lzw3XJTH",
        "outputId": "2fbdc01f-96e6-48d6-9aad-f903675137cc"
      },
      "execution_count": 25,
      "outputs": [
        {
          "output_type": "stream",
          "name": "stdout",
          "text": [
            "+------+-------+------+---------+\n",
            "|userId|movieId|rating|timestamp|\n",
            "+------+-------+------+---------+\n",
            "|     1|      1|   4.0|964982703|\n",
            "|     1|      3|   4.0|964981247|\n",
            "|     1|      6|   4.0|964982224|\n",
            "|     1|     47|   5.0|964983815|\n",
            "|     1|     50|   5.0|964982931|\n",
            "|     1|     70|   3.0|964982400|\n",
            "|     1|    101|   5.0|964980868|\n",
            "|     1|    110|   4.0|964982176|\n",
            "|     1|    151|   5.0|964984041|\n",
            "|     1|    157|   5.0|964984100|\n",
            "+------+-------+------+---------+\n",
            "only showing top 10 rows\n",
            "\n"
          ]
        }
      ]
    },
    {
      "cell_type": "code",
      "source": [
        "tagsDF.show(10)"
      ],
      "metadata": {
        "colab": {
          "base_uri": "https://localhost:8080/"
        },
        "id": "pFv5hiTOXNCH",
        "outputId": "c58aa657-de13-4641-c25f-1cc604abe369"
      },
      "execution_count": 26,
      "outputs": [
        {
          "output_type": "stream",
          "name": "stdout",
          "text": [
            "+------+-------+-----------------+----------+\n",
            "|userId|movieId|              tag| timestamp|\n",
            "+------+-------+-----------------+----------+\n",
            "|     2|  60756|            funny|1445714994|\n",
            "|     2|  60756|  Highly quotable|1445714996|\n",
            "|     2|  60756|     will ferrell|1445714992|\n",
            "|     2|  89774|     Boxing story|1445715207|\n",
            "|     2|  89774|              MMA|1445715200|\n",
            "|     2|  89774|        Tom Hardy|1445715205|\n",
            "|     2| 106782|            drugs|1445715054|\n",
            "|     2| 106782|Leonardo DiCaprio|1445715051|\n",
            "|     2| 106782|  Martin Scorsese|1445715056|\n",
            "|     7|  48516|     way too long|1169687325|\n",
            "+------+-------+-----------------+----------+\n",
            "only showing top 10 rows\n",
            "\n"
          ]
        }
      ]
    },
    {
      "cell_type": "code",
      "source": [
        "# Which movie has the highest count of ratings\n",
        "from pyspark.sql.functions import count, desc, avg\n",
        "ratingsDF.groupBy(\"movieId\").count().orderBy(desc(\"count\")).show()"
      ],
      "metadata": {
        "colab": {
          "base_uri": "https://localhost:8080/"
        },
        "id": "va0xBv-lXRYD",
        "outputId": "fe1833b0-96dd-49e4-ff61-278815910948"
      },
      "execution_count": 32,
      "outputs": [
        {
          "output_type": "stream",
          "name": "stdout",
          "text": [
            "+-------+-----+\n",
            "|movieId|count|\n",
            "+-------+-----+\n",
            "|    356|  329|\n",
            "|    318|  317|\n",
            "|    296|  307|\n",
            "|    593|  279|\n",
            "|   2571|  278|\n",
            "|    260|  251|\n",
            "|    480|  238|\n",
            "|    110|  237|\n",
            "|    589|  224|\n",
            "|    527|  220|\n",
            "|   2959|  218|\n",
            "|      1|  215|\n",
            "|   1196|  211|\n",
            "|     50|  204|\n",
            "|   2858|  204|\n",
            "|     47|  203|\n",
            "|    780|  202|\n",
            "|    150|  201|\n",
            "|   1198|  200|\n",
            "|   4993|  198|\n",
            "+-------+-----+\n",
            "only showing top 20 rows\n",
            "\n"
          ]
        }
      ]
    },
    {
      "cell_type": "code",
      "metadata": {
        "id": "HP1GBfIoxIKw",
        "colab": {
          "base_uri": "https://localhost:8080/"
        },
        "outputId": "f4debfbf-4c13-4f48-edd6-9e441ff1f40f"
      },
      "source": [
        "# Find the avg ratings for each movie\n",
        "avgRatings = ratingsDF.groupBy(\"movieId\").avg(\"rating\")\n",
        "avgRatings.show()"
      ],
      "execution_count": 28,
      "outputs": [
        {
          "output_type": "stream",
          "name": "stdout",
          "text": [
            "+-------+------------------+\n",
            "|movieId|       avg(rating)|\n",
            "+-------+------------------+\n",
            "|   1580| 3.487878787878788|\n",
            "|   2366|              3.64|\n",
            "|   3175|              3.58|\n",
            "|   1088| 3.369047619047619|\n",
            "|  32460|              4.25|\n",
            "|  44022| 3.217391304347826|\n",
            "|  96488|              4.25|\n",
            "|   1238| 4.055555555555555|\n",
            "|   1342|               2.5|\n",
            "|   1591|2.6346153846153846|\n",
            "|   1645| 3.411764705882353|\n",
            "|   4519|3.3333333333333335|\n",
            "|   2142|               2.7|\n",
            "|    471|              3.55|\n",
            "|   3997|1.8333333333333333|\n",
            "|    833|               2.0|\n",
            "|   3918|3.2777777777777777|\n",
            "|   7982|              3.25|\n",
            "|   1959|3.6666666666666665|\n",
            "|  68135|              3.55|\n",
            "+-------+------------------+\n",
            "only showing top 20 rows\n",
            "\n"
          ]
        }
      ]
    },
    {
      "cell_type": "code",
      "source": [
        "# Let's keep only the movies with at least 100 count and then find their average ratings\n",
        "highCountRatingsAvg = ratingsDF.groupBy(\"movieId\").agg(count(\"rating\").alias(\"count\"), avg(\"rating\").alias(\"avg\"))\n",
        "highCountRatingsAvg = highCountRatingsAvg.filter(\"count >= 100\")\n",
        "# Let's join this dataframe to moviesDF to find titles of the movies as well\n",
        "highCountRatingsAvg = highCountRatingsAvg.join(moviesDF, highCountRatingsAvg.movieId == moviesDF.movieId)\n",
        "highCountRatingsAvg.orderBy(desc(\"avg\")).show(truncate=False)"
      ],
      "metadata": {
        "colab": {
          "base_uri": "https://localhost:8080/"
        },
        "id": "DTW_5UB_ZK26",
        "outputId": "c82e8555-8a9c-4513-845d-1bdcd15dd47b"
      },
      "execution_count": 36,
      "outputs": [
        {
          "output_type": "stream",
          "name": "stdout",
          "text": [
            "+-------+-----+------------------+-------+------------------------------------------------------------------------------+---------------------------------------+\n",
            "|movieId|count|avg               |movieId|title                                                                         |genres                                 |\n",
            "+-------+-----+------------------+-------+------------------------------------------------------------------------------+---------------------------------------+\n",
            "|318    |317  |4.429022082018927 |318    |Shawshank Redemption, The (1994)                                              |Crime|Drama                            |\n",
            "|858    |192  |4.2890625         |858    |Godfather, The (1972)                                                         |Crime|Drama                            |\n",
            "|2959   |218  |4.272935779816514 |2959   |Fight Club (1999)                                                             |Action|Crime|Drama|Thriller            |\n",
            "|1221   |129  |4.25968992248062  |1221   |Godfather: Part II, The (1974)                                                |Crime|Drama                            |\n",
            "|48516  |107  |4.252336448598131 |48516  |Departed, The (2006)                                                          |Crime|Drama|Thriller                   |\n",
            "|1213   |126  |4.25              |1213   |Goodfellas (1990)                                                             |Crime|Drama                            |\n",
            "|912    |100  |4.24              |912    |Casablanca (1942)                                                             |Drama|Romance                          |\n",
            "|58559  |149  |4.238255033557047 |58559  |Dark Knight, The (2008)                                                       |Action|Crime|Drama|IMAX                |\n",
            "|50     |204  |4.237745098039215 |50     |Usual Suspects, The (1995)                                                    |Crime|Mystery|Thriller                 |\n",
            "|1197   |142  |4.232394366197183 |1197   |Princess Bride, The (1987)                                                    |Action|Adventure|Comedy|Fantasy|Romance|\n",
            "|260    |251  |4.231075697211155 |260    |Star Wars: Episode IV - A New Hope (1977)                                     |Action|Adventure|Sci-Fi                |\n",
            "|527    |220  |4.225             |527    |Schindler's List (1993)                                                       |Drama|War                              |\n",
            "|1208   |107  |4.219626168224299 |1208   |Apocalypse Now (1979)                                                         |Action|Drama|War                       |\n",
            "|2329   |129  |4.217054263565892 |2329   |American History X (1998)                                                     |Crime|Drama                            |\n",
            "|1196   |211  |4.2156398104265405|1196   |Star Wars: Episode V - The Empire Strikes Back (1980)                         |Action|Adventure|Sci-Fi                |\n",
            "|1198   |200  |4.2075            |1198   |Raiders of the Lost Ark (Indiana Jones and the Raiders of the Lost Ark) (1981)|Action|Adventure                       |\n",
            "|1193   |133  |4.203007518796992 |1193   |One Flew Over the Cuckoo's Nest (1975)                                        |Drama                                  |\n",
            "|1089   |131  |4.202290076335878 |1089   |Reservoir Dogs (1992)                                                         |Crime|Mystery|Thriller                 |\n",
            "|296    |307  |4.197068403908795 |296    |Pulp Fiction (1994)                                                           |Comedy|Crime|Drama|Thriller            |\n",
            "|2571   |278  |4.192446043165468 |2571   |Matrix, The (1999)                                                            |Action|Sci-Fi|Thriller                 |\n",
            "+-------+-----+------------------+-------+------------------------------------------------------------------------------+---------------------------------------+\n",
            "only showing top 20 rows\n",
            "\n"
          ]
        }
      ]
    }
  ]
}