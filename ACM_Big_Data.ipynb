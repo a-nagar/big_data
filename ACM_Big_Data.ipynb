{
 "cells": [
  {
   "cell_type": "code",
   "execution_count": 0,
   "metadata": {
    "application/vnd.databricks.v1+cell": {
     "cellMetadata": {
      "byteLimit": 2048000,
      "rowLimit": 10000
     },
     "inputWidgets": {},
     "nuid": "fd3e68d6-209d-4b73-9ea6-cb8156bcf99b",
     "showTitle": false,
     "tableResultSettingsMap": {},
     "title": ""
    }
   },
   "outputs": [
    {
     "output_type": "stream",
     "name": "stdout",
     "output_type": "stream",
     "text": [
      "--2025-03-04 17:54:36--  https://www.gutenberg.org/cache/epub/1513/pg1513.txt\nResolving www.gutenberg.org (www.gutenberg.org)... 152.19.134.47, 2610:28:3090:3000:0:bad:cafe:47\nConnecting to www.gutenberg.org (www.gutenberg.org)|152.19.134.47|:443... connected.\nHTTP request sent, awaiting response... 200 OK\nLength: 169541 (166K) [text/plain]\nSaving to: ‘/tmp/pg1513.txt.2’\n\n     0K .......... .......... .......... .......... .......... 30%  435K 0s\n    50K .......... .......... .......... .......... .......... 60%  628K 0s\n   100K .......... .......... .......... .......... .......... 90%  628K 0s\n   150K .......... .....                                      100% 28.0M=0.3s\n\n2025-03-04 17:54:37 (602 KB/s) - ‘/tmp/pg1513.txt.2’ saved [169541/169541]\n\nRserv\nRtmpMOJO88\nchauffeur-daemon-params\nchauffeur-daemon.pid\nchauffeur-env.sh\ncustom-spark.conf\ndriver-daemon-params\ndriver-daemon.pid\ndriver-env.sh\nhsperfdata_root\npg1513.txt\npg1513.txt.1\npg1513.txt.2\nsystemd-private-31b3df35480c472b9aee9c4b0c2dea4f-apache2.service-kPWEDh\nsystemd-private-31b3df35480c472b9aee9c4b0c2dea4f-ntp.service-NCCrgi\nsystemd-private-31b3df35480c472b9aee9c4b0c2dea4f-systemd-logind.service-zJnf7i\nsystemd-private-31b3df35480c472b9aee9c4b0c2dea4f-systemd-resolved.service-73qAbj\ntmp.hQk5ugYirh\n"
     ]
    }
   ],
   "source": [
    "# Step 1: Download a book from an external source to file system \n",
    "\n",
    "%sh\n",
    "wget -P /tmp https://www.gutenberg.org/cache/epub/1513/pg1513.txt"
   ]
  },
  {
   "cell_type": "code",
   "execution_count": 0,
   "metadata": {
    "application/vnd.databricks.v1+cell": {
     "cellMetadata": {
      "byteLimit": 2048000,
      "rowLimit": 10000
     },
     "inputWidgets": {},
     "nuid": "c76a9b4d-1fa6-4e87-8459-6fb4032c02a4",
     "showTitle": false,
     "tableResultSettingsMap": {},
     "title": ""
    }
   },
   "outputs": [],
   "source": [
    "book = sc.textFile(\"file:///tmp/pg1513.txt\")"
   ]
  },
  {
   "cell_type": "code",
   "execution_count": 0,
   "metadata": {
    "application/vnd.databricks.v1+cell": {
     "cellMetadata": {
      "byteLimit": 2048000,
      "rowLimit": 10000
     },
     "inputWidgets": {},
     "nuid": "4c666aff-435f-49a1-8e47-13153c51e8ee",
     "showTitle": false,
     "tableResultSettingsMap": {},
     "title": ""
    }
   },
   "outputs": [
    {
     "output_type": "stream",
     "name": "stdout",
     "output_type": "stream",
     "text": [
      "Out[18]: ['The Project Gutenberg eBook of Romeo and Juliet',\n '    ',\n 'This ebook is for the use of anyone anywhere in the United States and',\n 'most other parts of the world at no cost and with almost no restrictions',\n 'whatsoever. You may copy it, give it away or re-use it under the terms',\n 'of the Project Gutenberg License included with this ebook or online',\n 'at www.gutenberg.org. If you are not located in the United States,',\n 'you will have to check the laws of the country where you are located',\n 'before using this eBook.',\n '']"
     ]
    }
   ],
   "source": [
    "book.take(10)"
   ]
  },
  {
   "cell_type": "code",
   "execution_count": 0,
   "metadata": {
    "application/vnd.databricks.v1+cell": {
     "cellMetadata": {
      "byteLimit": 2048000,
      "rowLimit": 10000
     },
     "inputWidgets": {},
     "nuid": "ee885c83-8626-4dd5-8b90-1b0c9ddb0daa",
     "showTitle": false,
     "tableResultSettingsMap": {},
     "title": ""
    }
   },
   "outputs": [],
   "source": [
    "words = book.flatMap(lambda x: x.split(\" \")).map(lambda x: x.lower())\n",
    "longWords = words.filter(lambda x: len(x) > 5)\n",
    "wordPairs = longWords.map(lambda x: (x, 1))\n",
    "wordCounts = wordPairs.reduceByKey(lambda x,y: x + y).sortBy(lambda x: -x[1])\n"
   ]
  },
  {
   "cell_type": "code",
   "execution_count": 0,
   "metadata": {
    "application/vnd.databricks.v1+cell": {
     "cellMetadata": {
      "byteLimit": 2048000,
      "rowLimit": 10000
     },
     "inputWidgets": {},
     "nuid": "632d321c-8618-42e1-9e0b-67dccddb8d9d",
     "showTitle": false,
     "tableResultSettingsMap": {},
     "title": ""
    }
   },
   "outputs": [
    {
     "output_type": "stream",
     "name": "stdout",
     "output_type": "stream",
     "text": [
      "Out[20]: [('romeo.', 188),\n ('juliet.', 132),\n ('capulet.', 108),\n ('nurse.', 104),\n ('project', 84),\n ('mercutio.', 67),\n ('benvolio.', 65),\n ('lawrence.', 58),\n ('gutenberg™', 54),\n ('should', 50)]"
     ]
    }
   ],
   "source": [
    "wordCounts.take(10)"
   ]
  },
  {
   "cell_type": "code",
   "execution_count": 0,
   "metadata": {
    "application/vnd.databricks.v1+cell": {
     "cellMetadata": {},
     "inputWidgets": {},
     "nuid": "077802f6-630f-4d3d-9ae4-1b708e6257dc",
     "showTitle": false,
     "tableResultSettingsMap": {},
     "title": ""
    }
   },
   "outputs": [
    {
     "output_type": "stream",
     "name": "stdout",
     "output_type": "stream",
     "text": [
      "  % Total    % Received % Xferd  Average Speed   Time    Time     Time  Current\n                                 Dload  Upload   Total   Spent    Left  Speed\n\n  0     0    0     0    0     0      0      0 --:--:-- --:--:-- --:--:--     0\n100  955k  100  955k    0     0  1538k      0 --:--:-- --:--:-- --:--:-- 1538k\nArchive:  /tmp/ml-latest-small.zip\n"
     ]
    },
    {
     "output_type": "display_data",
     "data": {
      "text/html": [
       "<style scoped>\n",
       "  .ansiout {\n",
       "    display: block;\n",
       "    unicode-bidi: embed;\n",
       "    white-space: pre-wrap;\n",
       "    word-wrap: break-word;\n",
       "    word-break: break-all;\n",
       "    font-family: \"Menlo\", \"Monaco\", \"Consolas\", \"Ubuntu Mono\", \"Source Code Pro\", monospace;\n",
       "    font-size: 13px;\n",
       "    color: #555;\n",
       "    margin-left: 4px;\n",
       "    line-height: 19px;\n",
       "  }\n",
       "</style>"
      ]
     },
     "metadata": {
      "application/vnd.databricks.v1+output": {
       "arguments": {},
       "data": "",
       "errorSummary": "Cancelled",
       "errorTraceType": null,
       "metadata": {},
       "type": "ipynbError"
      }
     },
     "output_type": "display_data"
    }
   ],
   "source": [
    "%sh curl https://files.grouplens.org/datasets/movielens/ml-latest-small.zip --output /tmp/ml-latest-small.zip\n",
    "unzip /tmp/ml-latest-small.zip"
   ]
  },
  {
   "cell_type": "code",
   "execution_count": 0,
   "metadata": {
    "application/vnd.databricks.v1+cell": {
     "cellMetadata": {
      "byteLimit": 2048000,
      "rowLimit": 10000
     },
     "inputWidgets": {},
     "nuid": "060aaec6-9a63-491b-bd43-2e866a258430",
     "showTitle": false,
     "tableResultSettingsMap": {},
     "title": ""
    }
   },
   "outputs": [
    {
     "output_type": "stream",
     "name": "stdout",
     "output_type": "stream",
     "text": [
      "--2025-03-04 18:26:31--  https://raw.githubusercontent.com/a-nagar/datasets/refs/heads/main/movielens/movies.csv\nResolving raw.githubusercontent.com (raw.githubusercontent.com)... 185.199.110.133, 185.199.111.133, 185.199.108.133, ...\nConnecting to raw.githubusercontent.com (raw.githubusercontent.com)|185.199.110.133|:443... connected.\nHTTP request sent, awaiting response... 200 OK\nLength: 494431 (483K) [text/plain]\nSaving to: ‘/tmp/movies.csv’\n\n     0K .......... .......... .......... .......... .......... 10% 4.94M 0s\n    50K .......... .......... .......... .......... .......... 20% 6.17M 0s\n   100K .......... .......... .......... .......... .......... 31% 5.96M 0s\n   150K .......... .......... .......... .......... .......... 41% 5.97M 0s\n   200K .......... .......... .......... .......... .......... 51% 39.3M 0s\n   250K .......... .......... .......... .......... .......... 62% 26.8M 0s\n   300K .......... .......... .......... .......... .......... 72% 56.3M 0s\n   350K .......... .......... .......... .......... .......... 82% 10.1M 0s\n   400K .......... .......... .......... .......... .......... 93% 38.6M 0s\n   450K .......... .......... .......... ..                   100% 24.6M=0.05s\n\n2025-03-04 18:26:31 (10.4 MB/s) - ‘/tmp/movies.csv’ saved [494431/494431]\n\n--2025-03-04 18:26:31--  https://raw.githubusercontent.com/a-nagar/datasets/refs/heads/main/movielens/ratings.csv\nResolving raw.githubusercontent.com (raw.githubusercontent.com)... 185.199.109.133, 185.199.108.133, 185.199.111.133, ...\nConnecting to raw.githubusercontent.com (raw.githubusercontent.com)|185.199.109.133|:443... connected.\nHTTP request sent, awaiting response... 200 OK\nLength: 2483723 (2.4M) [text/plain]\nSaving to: ‘/tmp/ratings.csv’\n\n     0K .......... .......... .......... .......... ..........  2% 7.04M 0s\n    50K .......... .......... .......... .......... ..........  4% 5.10M 0s\n   100K .......... .......... .......... .......... ..........  6% 6.62M 0s\n   150K .......... .......... .......... .......... ..........  8% 12.4M 0s\n   200K .......... .......... .......... .......... .......... 10% 12.9M 0s\n   250K .......... .......... .......... .......... .......... 12% 57.7M 0s\n   300K .......... .......... .......... .......... .......... 14% 19.8M 0s\n   350K .......... .......... .......... .......... .......... 16% 14.1M 0s\n   400K .......... .......... .......... .......... .......... 18% 43.6M 0s\n   450K .......... .......... .......... .......... .......... 20%  274M 0s\n   500K .......... .......... .......... .......... .......... 22% 26.8M 0s\n   550K .......... .......... .......... .......... .......... 24%  136M 0s\n   600K .......... .......... .......... .......... .......... 26%  237M 0s\n   650K .......... .......... .......... .......... .......... 28% 19.6M 0s\n   700K .......... .......... .......... .......... .......... 30% 51.5M 0s\n   750K .......... .......... .......... .......... .......... 32% 53.9M 0s\n   800K .......... .......... .......... .......... .......... 35%  164M 0s\n   850K .......... .......... .......... .......... .......... 37%  204M 0s\n   900K .......... .......... .......... .......... .......... 39%  254M 0s\n   950K .......... .......... .......... .......... .......... 41% 35.4M 0s\n  1000K .......... .......... .......... .......... .......... 43%  237M 0s\n  1050K .......... .......... .......... .......... .......... 45%  275M 0s\n  1100K .......... .......... .......... .......... .......... 47%  228M 0s\n  1150K .......... .......... .......... .......... .......... 49%  142M 0s\n  1200K .......... .......... .......... .......... .......... 51% 25.9M 0s\n  1250K .......... .......... .......... .......... .......... 53% 81.5M 0s\n  1300K .......... .......... .......... .......... .......... 55%  247M 0s\n  1350K .......... .......... .......... .......... .......... 57% 94.3M 0s\n  1400K .......... .......... .......... .......... .......... 59%  203M 0s\n  1450K .......... .......... .......... .......... .......... 61%  116M 0s\n  1500K .......... .......... .......... .......... .......... 63%  213M 0s\n  1550K .......... .......... .......... .......... .......... 65%  269M 0s\n  1600K .......... .......... .......... .......... .......... 68%  216M 0s\n  1650K .......... .......... .......... .......... .......... 70%  154M 0s\n  1700K .......... .......... .......... .......... .......... 72%  204M 0s\n  1750K .......... .......... .......... .......... .......... 74%  120M 0s\n  1800K .......... .......... .......... .......... .......... 76%  214M 0s\n  1850K .......... .......... .......... .......... .......... 78%  134M 0s\n  1900K .......... .......... .......... .......... .......... 80%  172M 0s\n  1950K .......... .......... .......... .......... .......... 82%  138M 0s\n  2000K .......... .......... .......... .......... .......... 84%  118M 0s\n  2050K .......... .......... .......... .......... .......... 86%  225M 0s\n  2100K .......... .......... .......... .......... .......... 88%  260M 0s\n  2150K .......... .......... .......... .......... .......... 90%  253M 0s\n  2200K .......... .......... .......... .......... .......... 92%  261M 0s\n  2250K .......... .......... .......... .......... .......... 94%  280M 0s\n  2300K .......... .......... .......... .......... .......... 96%  280M 0s\n  2350K .......... .......... .......... .......... .......... 98% 66.3M 0s\n  2400K .......... .......... .....                           100%  222M=0.06s\n\n2025-03-04 18:26:31 (40.4 MB/s) - ‘/tmp/ratings.csv’ saved [2483723/2483723]\n\n--2025-03-04 18:26:31--  https://raw.githubusercontent.com/a-nagar/datasets/refs/heads/main/movielens/tags.csv\nResolving raw.githubusercontent.com (raw.githubusercontent.com)... 185.199.110.133, 185.199.109.133, 185.199.108.133, ...\nConnecting to raw.githubusercontent.com (raw.githubusercontent.com)|185.199.110.133|:443... connected.\nHTTP request sent, awaiting response... 200 OK\nLength: 118660 (116K) [text/plain]\nSaving to: ‘/tmp/tags.csv’\n\n     0K .......... .......... .......... .......... .......... 43% 6.04M 0s\n    50K .......... .......... .......... .......... .......... 86% 7.27M 0s\n   100K .......... .....                                      100%  194M=0.01s\n\n2025-03-04 18:26:31 (7.61 MB/s) - ‘/tmp/tags.csv’ saved [118660/118660]\n\n"
     ]
    }
   ],
   "source": [
    "%sh\n",
    "wget -P /tmp https://raw.githubusercontent.com/a-nagar/datasets/refs/heads/main/movielens/movies.csv\n",
    "wget -P /tmp https://raw.githubusercontent.com/a-nagar/datasets/refs/heads/main/movielens/ratings.csv\n",
    "wget -P /tmp https://raw.githubusercontent.com/a-nagar/datasets/refs/heads/main/movielens/tags.csv"
   ]
  },
  {
   "cell_type": "code",
   "execution_count": 0,
   "metadata": {
    "application/vnd.databricks.v1+cell": {
     "cellMetadata": {
      "byteLimit": 2048000,
      "rowLimit": 10000
     },
     "inputWidgets": {},
     "nuid": "ceb5b0cb-8c91-4ef7-9ae5-0762b868ff1a",
     "showTitle": false,
     "tableResultSettingsMap": {},
     "title": ""
    }
   },
   "outputs": [],
   "source": [
    "moviesDF = spark.read.option(\"header\",\"true\").option(\"inferSchema\",\"true\").csv(\"file:///tmp/movies.csv\")\n",
    "ratingsDF = spark.read.option(\"header\",\"true\").option(\"inferSchema\",\"true\").csv(\"file:///tmp/ratings.csv\")\n",
    "tagsDF = spark.read.option(\"header\",\"true\").option(\"inferSchema\",\"true\").csv(\"file:///tmp/tags.csv\")"
   ]
  },
  {
   "cell_type": "code",
   "execution_count": 0,
   "metadata": {
    "application/vnd.databricks.v1+cell": {
     "cellMetadata": {
      "byteLimit": 2048000,
      "rowLimit": 10000
     },
     "inputWidgets": {},
     "nuid": "a803bc50-00c7-4ea4-a1dd-29b512772355",
     "showTitle": false,
     "tableResultSettingsMap": {},
     "title": ""
    }
   },
   "outputs": [
    {
     "output_type": "stream",
     "name": "stdout",
     "output_type": "stream",
     "text": [
      "+-------+--------------------+--------------------+\n|movieId|               title|              genres|\n+-------+--------------------+--------------------+\n|      1|    Toy Story (1995)|Adventure|Animati...|\n|      2|      Jumanji (1995)|Adventure|Childre...|\n|      3|Grumpier Old Men ...|      Comedy|Romance|\n|      4|Waiting to Exhale...|Comedy|Drama|Romance|\n|      5|Father of the Bri...|              Comedy|\n|      6|         Heat (1995)|Action|Crime|Thri...|\n|      7|      Sabrina (1995)|      Comedy|Romance|\n|      8| Tom and Huck (1995)|  Adventure|Children|\n|      9| Sudden Death (1995)|              Action|\n|     10|    GoldenEye (1995)|Action|Adventure|...|\n+-------+--------------------+--------------------+\nonly showing top 10 rows\n\n"
     ]
    }
   ],
   "source": [
    "moviesDF.show(10)"
   ]
  },
  {
   "cell_type": "code",
   "execution_count": 0,
   "metadata": {
    "application/vnd.databricks.v1+cell": {
     "cellMetadata": {
      "byteLimit": 2048000,
      "rowLimit": 10000
     },
     "inputWidgets": {},
     "nuid": "66c4c98f-a34a-4639-ad0c-b2f48598dc62",
     "showTitle": false,
     "tableResultSettingsMap": {},
     "title": ""
    }
   },
   "outputs": [
    {
     "output_type": "stream",
     "name": "stdout",
     "output_type": "stream",
     "text": [
      "+------+-------+------+---------+\n|userId|movieId|rating|timestamp|\n+------+-------+------+---------+\n|     1|      1|   4.0|964982703|\n|     1|      3|   4.0|964981247|\n|     1|      6|   4.0|964982224|\n|     1|     47|   5.0|964983815|\n|     1|     50|   5.0|964982931|\n|     1|     70|   3.0|964982400|\n|     1|    101|   5.0|964980868|\n|     1|    110|   4.0|964982176|\n|     1|    151|   5.0|964984041|\n|     1|    157|   5.0|964984100|\n+------+-------+------+---------+\nonly showing top 10 rows\n\n"
     ]
    }
   ],
   "source": [
    "ratingsDF.show(10)"
   ]
  },
  {
   "cell_type": "code",
   "execution_count": 0,
   "metadata": {
    "application/vnd.databricks.v1+cell": {
     "cellMetadata": {
      "byteLimit": 2048000,
      "rowLimit": 10000
     },
     "inputWidgets": {},
     "nuid": "759b75f9-13bb-4b90-96aa-e22544ef20c7",
     "showTitle": false,
     "tableResultSettingsMap": {},
     "title": ""
    }
   },
   "outputs": [
    {
     "output_type": "stream",
     "name": "stdout",
     "output_type": "stream",
     "text": [
      "+------+-------+-----------------+----------+\n|userId|movieId|              tag| timestamp|\n+------+-------+-----------------+----------+\n|     2|  60756|            funny|1445714994|\n|     2|  60756|  Highly quotable|1445714996|\n|     2|  60756|     will ferrell|1445714992|\n|     2|  89774|     Boxing story|1445715207|\n|     2|  89774|              MMA|1445715200|\n|     2|  89774|        Tom Hardy|1445715205|\n|     2| 106782|            drugs|1445715054|\n|     2| 106782|Leonardo DiCaprio|1445715051|\n|     2| 106782|  Martin Scorsese|1445715056|\n|     7|  48516|     way too long|1169687325|\n+------+-------+-----------------+----------+\nonly showing top 10 rows\n\n"
     ]
    }
   ],
   "source": [
    "tagsDF.show(10)"
   ]
  },
  {
   "cell_type": "code",
   "execution_count": 0,
   "metadata": {
    "application/vnd.databricks.v1+cell": {
     "cellMetadata": {
      "byteLimit": 2048000,
      "rowLimit": 10000
     },
     "inputWidgets": {},
     "nuid": "282d50cd-fcb7-4398-8d79-4799daf00d98",
     "showTitle": false,
     "tableResultSettingsMap": {},
     "title": ""
    }
   },
   "outputs": [
    {
     "output_type": "stream",
     "name": "stdout",
     "output_type": "stream",
     "text": [
      "+-------+-----+\n|movieId|count|\n+-------+-----+\n|    356|  329|\n|    318|  317|\n|    296|  307|\n|    593|  279|\n|   2571|  278|\n|    260|  251|\n|    480|  238|\n|    110|  237|\n|    589|  224|\n|    527|  220|\n|   2959|  218|\n|      1|  215|\n|   1196|  211|\n|     50|  204|\n|   2858|  204|\n|     47|  203|\n|    780|  202|\n|    150|  201|\n|   1198|  200|\n|   4993|  198|\n+-------+-----+\nonly showing top 20 rows\n\n"
     ]
    }
   ],
   "source": [
    "# Which movie has the highest count of ratings\n",
    "from pyspark.sql.functions import count, desc\n",
    "ratingsDF.groupBy(\"movieId\").count().orderBy(desc(\"count\")).show()"
   ]
  },
  {
   "cell_type": "code",
   "execution_count": 0,
   "metadata": {
    "application/vnd.databricks.v1+cell": {
     "cellMetadata": {
      "byteLimit": 2048000,
      "rowLimit": 10000
     },
     "inputWidgets": {},
     "nuid": "23b114e0-524e-4117-bdb1-89b2bd82c956",
     "showTitle": false,
     "tableResultSettingsMap": {},
     "title": ""
    }
   },
   "outputs": [
    {
     "output_type": "stream",
     "name": "stdout",
     "output_type": "stream",
     "text": [
      "+-------+------------------+\n|movieId|       avg(rating)|\n+-------+------------------+\n|   1580| 3.487878787878788|\n|   2366|              3.64|\n|   3175|              3.58|\n|   1088| 3.369047619047619|\n|  32460|              4.25|\n|  44022| 3.217391304347826|\n|  96488|              4.25|\n|   1238| 4.055555555555555|\n|   1342|               2.5|\n|   1591|2.6346153846153846|\n|   1645| 3.411764705882353|\n|   4519|3.3333333333333335|\n|   2142|               2.7|\n|    471|              3.55|\n|   3997|1.8333333333333333|\n|    833|               2.0|\n|   3918|3.2777777777777777|\n|   7982|              3.25|\n|   1959|3.6666666666666665|\n|  68135|              3.55|\n+-------+------------------+\nonly showing top 20 rows\n\n"
     ]
    }
   ],
   "source": [
    "# Find the avg ratings for each movie\n",
    "avgRatings = ratingsDF.groupBy(\"movieId\").avg(\"rating\")\n",
    "avgRatings.show()"
   ]
  },
  {
   "cell_type": "code",
   "execution_count": 0,
   "metadata": {
    "application/vnd.databricks.v1+cell": {
     "cellMetadata": {
      "byteLimit": 2048000,
      "rowLimit": 10000
     },
     "inputWidgets": {},
     "nuid": "1e3a1c4d-4a97-4021-891a-1f39758b2e61",
     "showTitle": false,
     "tableResultSettingsMap": {},
     "title": ""
    }
   },
   "outputs": [
    {
     "output_type": "stream",
     "name": "stdout",
     "output_type": "stream",
     "text": [
      "+-------+---------+\n|movieId|avgRating|\n+-------+---------+\n|  26350|      5.0|\n|   3795|      5.0|\n|  25887|      5.0|\n| 157775|      5.0|\n|    633|      5.0|\n|  33138|      5.0|\n|  67618|      5.0|\n|    876|      5.0|\n|    496|      5.0|\n|  27373|      5.0|\n| 113829|      5.0|\n|  53578|      5.0|\n| 152711|      5.0|\n| 118894|      5.0|\n|     53|      5.0|\n| 160644|      5.0|\n|    148|      5.0|\n|   8911|      5.0|\n| 147300|      5.0|\n|  84273|      5.0|\n+-------+---------+\nonly showing top 20 rows\n\n"
     ]
    }
   ],
   "source": [
    "# Find the movies with the highest avg rating\n",
    "ratingsDF.groupBy(\"movieId\").avg(\"rating\").toDF(\"movieId\", \"avgRating\").orderBy(desc(\"avgRating\")).show()"
   ]
  },
  {
   "cell_type": "code",
   "execution_count": 0,
   "metadata": {
    "application/vnd.databricks.v1+cell": {
     "cellMetadata": {
      "byteLimit": 2048000,
      "rowLimit": 10000
     },
     "inputWidgets": {},
     "nuid": "f0e60987-3147-4573-9f5a-4f884f7f47af",
     "showTitle": false,
     "tableResultSettingsMap": {},
     "title": ""
    }
   },
   "outputs": [
    {
     "output_type": "stream",
     "name": "stdout",
     "output_type": "stream",
     "text": [
      "+-------+---------+--------------------+--------------------+\n|movieId|avgRating|               title|              genres|\n+-------+---------+--------------------+--------------------+\n|  26350|      5.0|Passenger, The (P...|               Drama|\n|   3795|      5.0|Five Senses, The ...|               Drama|\n|  25887|      5.0|Tales of Manhatta...|        Comedy|Drama|\n| 157775|      5.0|Tenchi Muyô! In L...|    Animation|Comedy|\n|    633|      5.0|Denise Calls Up (...|              Comedy|\n|  33138|      5.0|  Palindromes (2004)|Adventure|Comedy|...|\n|  67618|      5.0|Strictly Sexual (...|Comedy|Drama|Romance|\n|    876|      5.0|Supercop 2 (Proje...|Action|Comedy|Cri...|\n|    496|      5.0|What Happened Was...|Comedy|Drama|Roma...|\n|  27373|      5.0|          61* (2001)|               Drama|\n| 113829|      5.0|One I Love, The (...|Comedy|Drama|Romance|\n|  53578|      5.0|Valet, The (La do...|              Comedy|\n| 152711|      5.0|Who Killed Chea V...|         Documentary|\n| 118894|      5.0|Scooby-Doo! Abrac...|Animation|Childre...|\n|     53|      5.0|     Lamerica (1994)|     Adventure|Drama|\n| 160644|      5.0|  Indignation (2016)|               Drama|\n|    148|      5.0|Awfully Big Adven...|               Drama|\n|   8911|      5.0|Raise Your Voice ...|             Romance|\n| 147300|      5.0|Adventures Of She...|       Crime|Mystery|\n|  84273|      5.0|Zeitgeist: Moving...|         Documentary|\n+-------+---------+--------------------+--------------------+\nonly showing top 20 rows\n\n"
     ]
    }
   ],
   "source": [
    "\n",
    "# Now join the movies and ratings tables, and give the names of the top 10 movies with the highest ratings\n",
    "avgRatings = ratingsDF.groupBy(\"movieId\").avg(\"rating\").toDF(\"movieId\", \"avgRating\").orderBy(desc(\"avgRating\"))\n",
    "avgRatings.join(moviesDF, \"movieId\").orderBy(desc(\"avgRating\")).show()"
   ]
  },
  {
   "cell_type": "code",
   "execution_count": 0,
   "metadata": {
    "application/vnd.databricks.v1+cell": {
     "cellMetadata": {
      "byteLimit": 2048000,
      "rowLimit": 10000
     },
     "inputWidgets": {},
     "nuid": "1134cbf9-d196-4c60-b664-3f0681d235b4",
     "showTitle": false,
     "tableResultSettingsMap": {},
     "title": ""
    }
   },
   "outputs": [
    {
     "output_type": "stream",
     "name": "stdout",
     "output_type": "stream",
     "text": [
      "+-------+------+-----------+----------+--------------------+--------------------+\n|movieId|userId|        tag| timestamp|               title|              genres|\n+-------+------+-----------+----------+--------------------+--------------------+\n|   1921|   474|mathematics|1138031797|           Pi (1998)|Drama|Sci-Fi|Thri...|\n|   4995|   305|mathematics|1464428783|Beautiful Mind, A...|       Drama|Romance|\n|  36527|   474|mathematics|1137201998|        Proof (2005)|               Drama|\n+-------+------+-----------+----------+--------------------+--------------------+\n\n"
     ]
    }
   ],
   "source": [
    "# Now join the movies and tags tables, and output the NAMES all movies with the tag 'mathematics'\n",
    "tagMovies = tagsDF.join(moviesDF, \"movieId\")\n",
    "tagMovies.filter(\"tag like 'math%'\").show()\n"
   ]
  },
  {
   "cell_type": "code",
   "execution_count": 0,
   "metadata": {
    "application/vnd.databricks.v1+cell": {
     "cellMetadata": {},
     "inputWidgets": {},
     "nuid": "2a97e3bd-63c3-4a61-987d-86baba6b8550",
     "showTitle": false,
     "tableResultSettingsMap": {},
     "title": ""
    }
   },
   "outputs": [],
   "source": []
  }
 ],
 "metadata": {
  "application/vnd.databricks.v1+notebook": {
   "computePreferences": null,
   "dashboards": [],
   "environmentMetadata": {
    "base_environment": "",
    "client": "1"
   },
   "language": "python",
   "notebookMetadata": {
    "mostRecentlyExecutedCommandWithImplicitDF": {
     "commandId": 3781790738482437,
     "dataframes": [
      "_sqldf"
     ]
    },
    "pythonIndentUnit": 4
   },
   "notebookName": "ACM_Big_Data",
   "widgets": {}
  }
 },
 "nbformat": 4,
 "nbformat_minor": 0
}
